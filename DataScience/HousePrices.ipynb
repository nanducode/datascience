{
 "cells": [
  {
   "cell_type": "code",
   "execution_count": 2,
   "metadata": {
    "collapsed": false
   },
   "outputs": [],
   "source": [
    "import pandas as pd\n",
    "import numpy as np\n",
    "\n"
   ]
  },
  {
   "cell_type": "code",
   "execution_count": 35,
   "metadata": {
    "collapsed": false
   },
   "outputs": [],
   "source": [
    "train_data=pd.read_csv(\"/home/anand/Kaggle/HousePrices/train.csv\")\n",
    "train_data_copy=train_data.copy()\n",
    "out_data=pd.read_csv(\"/home/anand/Kaggle/HousePrices/test.csv\")\n",
    "#train_data=train_data.append(out_data)"
   ]
  },
  {
   "cell_type": "code",
   "execution_count": null,
   "metadata": {
    "collapsed": true
   },
   "outputs": [],
   "source": [
    "                    "
   ]
  },
  {
   "cell_type": "code",
   "execution_count": 29,
   "metadata": {
    "collapsed": false
   },
   "outputs": [],
   "source": [
    "train_data_y=train_data['SalePrice']\n",
    "train_data=train_data.drop(['SalePrice'],axis=1)\n",
    "train_data=train_data[out_data.columns]\n",
    "\n",
    "cattype=[c for c in train_data.columns if train_data.dtypes[c] == 'object']\n",
    "numtype=[c for c in train_data.columns if train_data.dtypes[c] != 'object']\n",
    "\n"
   ]
  },
  {
   "cell_type": "code",
   "execution_count": 30,
   "metadata": {
    "collapsed": false
   },
   "outputs": [
    {
     "ename": "AttributeError",
     "evalue": "'function' object has no attribute 'sum'",
     "output_type": "error",
     "traceback": [
      "\u001b[0;31m---------------------------------------------------------------------------\u001b[0m",
      "\u001b[0;31mAttributeError\u001b[0m                            Traceback (most recent call last)",
      "\u001b[0;32m<ipython-input-30-399d768dcb5b>\u001b[0m in \u001b[0;36m<module>\u001b[0;34m()\u001b[0m\n\u001b[1;32m      1\u001b[0m \u001b[0mdrop_list\u001b[0m\u001b[0;34m=\u001b[0m\u001b[0;34m[\u001b[0m\u001b[0;34m]\u001b[0m\u001b[0;34m\u001b[0m\u001b[0m\n\u001b[1;32m      2\u001b[0m \u001b[0;32mfor\u001b[0m \u001b[0mc\u001b[0m \u001b[0;32min\u001b[0m \u001b[0mtrain_data\u001b[0m\u001b[0;34m.\u001b[0m\u001b[0mcolumns\u001b[0m\u001b[0;34m:\u001b[0m\u001b[0;34m\u001b[0m\u001b[0m\n\u001b[0;32m----> 3\u001b[0;31m     \u001b[0;32mif\u001b[0m\u001b[0;34m(\u001b[0m\u001b[0mtrain_data\u001b[0m\u001b[0;34m[\u001b[0m\u001b[0mc\u001b[0m\u001b[0;34m]\u001b[0m\u001b[0;34m.\u001b[0m\u001b[0misnull\u001b[0m\u001b[0;34m.\u001b[0m\u001b[0msum\u001b[0m\u001b[0;34m(\u001b[0m\u001b[0;34m)\u001b[0m \u001b[0;34m>\u001b[0m \u001b[0;36m1000\u001b[0m\u001b[0;34m)\u001b[0m\u001b[0;34m:\u001b[0m\u001b[0;34m\u001b[0m\u001b[0m\n\u001b[0m\u001b[1;32m      4\u001b[0m         \u001b[0mprint\u001b[0m\u001b[0;34m(\u001b[0m\u001b[0mc\u001b[0m\u001b[0;34m)\u001b[0m\u001b[0;34m\u001b[0m\u001b[0m\n\u001b[1;32m      5\u001b[0m         \u001b[0mdrop_list\u001b[0m\u001b[0;34m.\u001b[0m\u001b[0mappend\u001b[0m\u001b[0;34m(\u001b[0m\u001b[0mc\u001b[0m\u001b[0;34m)\u001b[0m\u001b[0;34m\u001b[0m\u001b[0m\n",
      "\u001b[0;31mAttributeError\u001b[0m: 'function' object has no attribute 'sum'"
     ]
    }
   ],
   "source": [
    "drop_list=[]\n",
    "for c in train_data.columns:\n",
    "    if(train_data[c].isnull.sum() > 1000):        \n",
    "        print(c)\n",
    "        drop_list.append(c)\n",
    "        print(train_data[c].isnull().sum())\n",
    "drop_list"
   ]
  },
  {
   "cell_type": "code",
   "execution_count": 31,
   "metadata": {
    "collapsed": false
   },
   "outputs": [
    {
     "data": {
      "text/plain": [
       "MnPrv    157\n",
       "GdPrv     59\n",
       "GdWo      54\n",
       "MnWw      11\n",
       "Name: Fence, dtype: int64"
      ]
     },
     "execution_count": 31,
     "metadata": {},
     "output_type": "execute_result"
    }
   ],
   "source": [
    "train_data['Fence'].value_counts()"
   ]
  },
  {
   "cell_type": "code",
   "execution_count": 32,
   "metadata": {
    "collapsed": false
   },
   "outputs": [],
   "source": [
    "#train_data_afterdrop=train_data.drop(drop_list,axis=1)\n",
    "train_data_afterdrop=train_data.copy()"
   ]
  },
  {
   "cell_type": "code",
   "execution_count": 33,
   "metadata": {
    "collapsed": false
   },
   "outputs": [],
   "source": [
    "meanval={f:train_data_afterdrop[f].mean() for f in numtype }\n",
    "train_data_afterdrop=train_data_afterdrop.fillna(value=meanval)\n",
    "meanval={f:out_data[f].mean() for f in numtype }\n",
    "out_data=out_data.fillna(value=meanval)"
   ]
  },
  {
   "cell_type": "code",
   "execution_count": 34,
   "metadata": {
    "collapsed": false
   },
   "outputs": [],
   "source": [
    "cattype=[c for c in train_data_afterdrop.columns if train_data.dtypes[c] == 'object']\n",
    "maxvalue={f:train_data_afterdrop[f].value_counts().idxmax(axis=1) for f in cattype}\n",
    "train_data_afterdrop=train_data_afterdrop.fillna(value=maxvalue)\n",
    "maxvalue={f:out_data[f].value_counts().idxmax(axis=1) for f in cattype}\n",
    "out_data=out_data.fillna(value=maxvalue)\n",
    "\n"
   ]
  },
  {
   "cell_type": "code",
   "execution_count": 10,
   "metadata": {
    "collapsed": false
   },
   "outputs": [],
   "source": [
    "#train_data_afterdrop[train_data_afterdrop.isnull().any(axis=1)]\n",
    "\n",
    "\n"
   ]
  },
  {
   "cell_type": "code",
   "execution_count": 11,
   "metadata": {
    "collapsed": false
   },
   "outputs": [],
   "source": [
    "cattype=[c for c in train_data_afterdrop.columns if train_data.dtypes[c] == 'object']\n",
    "train_data_afterdrop=pd.get_dummies(train_data_afterdrop,cattype)\n",
    "out_data=pd.get_dummies(out_data,cattype)\n",
    "\n",
    "train_data_afterdrop.to_csv(\"Afterimpute.csv\")"
   ]
  },
  {
   "cell_type": "code",
   "execution_count": 12,
   "metadata": {
    "collapsed": false
   },
   "outputs": [
    {
     "data": {
      "text/plain": [
       "(1460, 271)"
      ]
     },
     "execution_count": 12,
     "metadata": {},
     "output_type": "execute_result"
    }
   ],
   "source": [
    "\n",
    "train_data_afterdrop.shape"
   ]
  },
  {
   "cell_type": "code",
   "execution_count": 13,
   "metadata": {
    "collapsed": false
   },
   "outputs": [],
   "source": [
    "final_train_x=train_data_afterdrop.drop(['Id'],axis=1)[:1400]\n",
    "final_train_y=train_data_y[:1400]\n",
    "final_test_x=train_data_afterdrop.drop(['Id'],axis=1)[1401:]\n",
    "final_test_y=train_data_y[1401:]\n",
    "from sklearn.model_selection import train_test_split\n",
    "x=train_data_afterdrop.drop(['Id'],axis=1)\n"
   ]
  },
  {
   "cell_type": "code",
   "execution_count": 14,
   "metadata": {
    "collapsed": true
   },
   "outputs": [],
   "source": [
    "import numpy as np\n",
    "import matplotlib.pyplot as plt\n",
    "from sklearn import linear_model\n",
    "def plot_coeff(alphas,coefs):\n",
    "    ax = plt.gca()\n",
    "    ax.plot(alphas, coefs)\n",
    "    ax.set_xscale('log')\n",
    "    ax.set_xlim(ax.get_xlim()[::-1])  # reverse axis\n",
    "    plt.xlabel('alpha')\n",
    "    plt.ylabel('weights')\n",
    "    plt.title('Ridge coefficients as a function of the regularization')\n",
    "    plt.axis('tight')\n",
    "    plt.show()"
   ]
  },
  {
   "cell_type": "code",
   "execution_count": 15,
   "metadata": {
    "collapsed": true
   },
   "outputs": [],
   "source": [
    "def plot_accuracy(alphas,accuracy):\n",
    "    ax = plt.gca()\n",
    "    ax.plot(alphas, accuracy)\n",
    "    #ax.set_xscale('log')\n",
    "    ax.set_xlim(ax.get_xlim()[::-1])  # reverse axis\n",
    "    plt.xlabel('alpha')\n",
    "    plt.ylabel('weights')\n",
    "    plt.title('Ridge coefficients as a function of the regularization')\n",
    "    plt.axis('tight')\n",
    "    plt.show()"
   ]
  },
  {
   "cell_type": "code",
   "execution_count": 16,
   "metadata": {
    "collapsed": true
   },
   "outputs": [],
   "source": [
    "def Linear(type_,final_train_x,final_train_y,final_test_x,final_test_y):\n",
    "    n_alphas = 200\n",
    "    accuracies=[]\n",
    "    coefs=[]\n",
    "    alphas = np.logspace(-10, -1, n_alphas)\n",
    "    if(type_=='linear'):\n",
    "        reg = linear_model.LinearRegression()\n",
    "        reg.fit(final_train_x,final_train_y)\n",
    "        accuracy=reg.score(final_test_x,final_test_y)\n",
    "        print(accuracy*100,'%')\n",
    "    elif(type_=='ridge'):\n",
    "        for a in alphas:\n",
    "            ridge=linear_model.Ridge(alpha=a)\n",
    "            ridge.fit(final_train_x,final_train_y)\n",
    "            coefs.append(ridge.coef_)\n",
    "            accuracies.append(ridge.score(final_test_x,final_test_y))\n",
    "        plot_coeff(alphas,coefs)\n",
    "        plot_accuracy(alphas,accuracies)\n",
    "    elif(type_=='lasso'):\n",
    "        for a in alphas:\n",
    "            lasso=linear_model.Lasso(alpha=a)\n",
    "            lasso.fit(final_train_x,final_train_y)\n",
    "            coefs.append(lasso.coef_)\n",
    "            accuracy=lasso.score(final_test_x,final_test_y)\n",
    "            accuracies.append(accuracy)\n",
    "        plot_coeff(alphas,coefs)\n",
    "        plot_accuracy(alphas,accuracies)\n",
    "    elif(type_=='lassolars'):\n",
    "        for a in alphas:\n",
    "            lasso=linear_model.LassoLars(alpha=a)\n",
    "            lasso.fit(final_train_x,final_train_y)\n",
    "            coefs.append(lasso.coef_)\n",
    "            accuracy=lasso.score(final_test_x,final_test_y)\n",
    "            accuracies.append(accuracy)\n",
    "            print(accuracy)\n",
    "        plot_coeff(alphas,coefs)\n",
    "        plot_accuracy(alphas,accuracies)\n",
    "    elif(type_=='br'):\n",
    "        for a in alphas:\n",
    "            lasso=linear_model.ElasticNet(alpha=a)\n",
    "            lasso.fit(final_train_x,final_train_y)\n",
    "            coefs.append(lasso.coef_)\n",
    "            accuracy=lasso.score(final_test_x,final_test_y)\n",
    "            accuracies.append(accuracy)\n",
    "            print(accuracy)\n",
    "        plot_coeff(alphas,coefs)\n",
    "        plot_accuracy(alphas,accuracies)"
   ]
  },
  {
   "cell_type": "code",
   "execution_count": 17,
   "metadata": {
    "collapsed": true
   },
   "outputs": [],
   "source": [
    "final_train_x=train_data_afterdrop.drop(['Id'],axis=1)[:1400]\n",
    "final_train_y=train_data_y[:1400]\n",
    "final_test_x=train_data_afterdrop.drop(['Id'],axis=1)[1401:]\n",
    "final_test_y=train_data_y[1401:]\n",
    "x=final_train_x.copy()\n",
    "y=final_train_y.copy()\n",
    "x_test=final_test_x.copy()\n",
    "y_test=final_test_y.copy()"
   ]
  },
  {
   "cell_type": "code",
   "execution_count": 18,
   "metadata": {
    "collapsed": true
   },
   "outputs": [],
   "source": [
    "from sklearn.decomposition import PCA\n",
    "from sklearn.preprocessing import StandardScaler\n",
    "\n",
    "def decomposeandrun(x,y,x_test,y_test):\n",
    "    print(\"Standardizing...\")\n",
    "    scaler=StandardScaler()\n",
    "    scaler.fit(x)\n",
    "    x=scaler.transform(x)\n",
    "    x_test=scaler.transform(x_test)\n",
    "    print(\"Find PCA....\")\n",
    "    pca=PCA(0.95)\n",
    "    pca.fit(x)\n",
    "    x=pca.transform(x)\n",
    "    x_test=pca.transform(x_test)\n",
    "    gradboost(x,y,x_test,y_test)"
   ]
  },
  {
   "cell_type": "code",
   "execution_count": 19,
   "metadata": {
    "collapsed": false
   },
   "outputs": [],
   "source": [
    "from sklearn.ensemble import GradientBoostingRegressor\n",
    "def gradboost(x,y,x_test,y_test):\n",
    "    accuracies=[]\n",
    "    lrList = range(1,20,4)\n",
    "    estList = range(100,1000,100)\n",
    "    maxac=0\n",
    "    maxlr=0\n",
    "    maxest=0\n",
    "    for l in lrList:\n",
    "        for est in estList:\n",
    "            gb=GradientBoostingRegressor(learning_rate=l/100,n_estimators=est)\n",
    "            gb.fit(x,y)\n",
    "            accuracy=gb.score(x_test,y_test)\n",
    "            if(maxac<accuracy):\n",
    "                maxac=accuracy\n",
    "                maxlr=l\n",
    "                maxest=est\n",
    "            accuracies.append(accuracy)\n",
    "        print(\"Learning rate: \",maxlr/100, \" Estimator: \",maxest, \" Accuracu\",maxac)\n",
    "    print(maxac)\n",
    "    print(maxlr)\n",
    "    print(maxest)\n"
   ]
  },
  {
   "cell_type": "code",
   "execution_count": null,
   "metadata": {
    "collapsed": false
   },
   "outputs": [],
   "source": [
    "print(x.shape)\n",
    "print(y.shape)\n",
    "print(x_test.shape)\n",
    "print(y_test.shape)\n",
    "decomposeandrun(x,y,x_test,y_test)\n"
   ]
  },
  {
   "cell_type": "code",
   "execution_count": 21,
   "metadata": {
    "collapsed": false
   },
   "outputs": [
    {
     "ename": "KeyboardInterrupt",
     "evalue": "",
     "output_type": "error",
     "traceback": [
      "\u001b[0;31m---------------------------------------------------------------------------\u001b[0m",
      "\u001b[0;31mKeyboardInterrupt\u001b[0m                         Traceback (most recent call last)",
      "\u001b[0;32m<ipython-input-21-61f3b5dddf1c>\u001b[0m in \u001b[0;36m<module>\u001b[0;34m()\u001b[0m\n\u001b[1;32m      2\u001b[0m \u001b[0mgb\u001b[0m\u001b[0;34m=\u001b[0m\u001b[0mGradientBoostingRegressor\u001b[0m\u001b[0;34m(\u001b[0m\u001b[0mlearning_rate\u001b[0m\u001b[0;34m=\u001b[0m\u001b[0;36m17\u001b[0m\u001b[0;34m/\u001b[0m\u001b[0;36m100\u001b[0m\u001b[0;34m,\u001b[0m\u001b[0mn_estimators\u001b[0m\u001b[0;34m=\u001b[0m\u001b[0;36m700\u001b[0m\u001b[0;34m)\u001b[0m\u001b[0;34m\u001b[0m\u001b[0m\n\u001b[1;32m      3\u001b[0m \u001b[0mselector\u001b[0m \u001b[0;34m=\u001b[0m \u001b[0mRFE\u001b[0m\u001b[0;34m(\u001b[0m\u001b[0mgb\u001b[0m\u001b[0;34m)\u001b[0m\u001b[0;34m\u001b[0m\u001b[0m\n\u001b[0;32m----> 4\u001b[0;31m \u001b[0mselector\u001b[0m\u001b[0;34m.\u001b[0m\u001b[0mfit\u001b[0m\u001b[0;34m(\u001b[0m\u001b[0mx\u001b[0m\u001b[0;34m,\u001b[0m\u001b[0my\u001b[0m\u001b[0;34m)\u001b[0m\u001b[0;34m\u001b[0m\u001b[0m\n\u001b[0m",
      "\u001b[0;32m/home/anand/software/anaconda3/lib/python3.6/site-packages/sklearn/feature_selection/rfe.py\u001b[0m in \u001b[0;36mfit\u001b[0;34m(self, X, y)\u001b[0m\n\u001b[1;32m    132\u001b[0m             \u001b[0mThe\u001b[0m \u001b[0mtarget\u001b[0m \u001b[0mvalues\u001b[0m\u001b[0;34m.\u001b[0m\u001b[0;34m\u001b[0m\u001b[0m\n\u001b[1;32m    133\u001b[0m         \"\"\"\n\u001b[0;32m--> 134\u001b[0;31m         \u001b[0;32mreturn\u001b[0m \u001b[0mself\u001b[0m\u001b[0;34m.\u001b[0m\u001b[0m_fit\u001b[0m\u001b[0;34m(\u001b[0m\u001b[0mX\u001b[0m\u001b[0;34m,\u001b[0m \u001b[0my\u001b[0m\u001b[0;34m)\u001b[0m\u001b[0;34m\u001b[0m\u001b[0m\n\u001b[0m\u001b[1;32m    135\u001b[0m \u001b[0;34m\u001b[0m\u001b[0m\n\u001b[1;32m    136\u001b[0m     \u001b[0;32mdef\u001b[0m \u001b[0m_fit\u001b[0m\u001b[0;34m(\u001b[0m\u001b[0mself\u001b[0m\u001b[0;34m,\u001b[0m \u001b[0mX\u001b[0m\u001b[0;34m,\u001b[0m \u001b[0my\u001b[0m\u001b[0;34m,\u001b[0m \u001b[0mstep_score\u001b[0m\u001b[0;34m=\u001b[0m\u001b[0;32mNone\u001b[0m\u001b[0;34m)\u001b[0m\u001b[0;34m:\u001b[0m\u001b[0;34m\u001b[0m\u001b[0m\n",
      "\u001b[0;32m/home/anand/software/anaconda3/lib/python3.6/site-packages/sklearn/feature_selection/rfe.py\u001b[0m in \u001b[0;36m_fit\u001b[0;34m(self, X, y, step_score)\u001b[0m\n\u001b[1;32m    171\u001b[0m                 \u001b[0mprint\u001b[0m\u001b[0;34m(\u001b[0m\u001b[0;34m\"Fitting estimator with %d features.\"\u001b[0m \u001b[0;34m%\u001b[0m \u001b[0mnp\u001b[0m\u001b[0;34m.\u001b[0m\u001b[0msum\u001b[0m\u001b[0;34m(\u001b[0m\u001b[0msupport_\u001b[0m\u001b[0;34m)\u001b[0m\u001b[0;34m)\u001b[0m\u001b[0;34m\u001b[0m\u001b[0m\n\u001b[1;32m    172\u001b[0m \u001b[0;34m\u001b[0m\u001b[0m\n\u001b[0;32m--> 173\u001b[0;31m             \u001b[0mestimator\u001b[0m\u001b[0;34m.\u001b[0m\u001b[0mfit\u001b[0m\u001b[0;34m(\u001b[0m\u001b[0mX\u001b[0m\u001b[0;34m[\u001b[0m\u001b[0;34m:\u001b[0m\u001b[0;34m,\u001b[0m \u001b[0mfeatures\u001b[0m\u001b[0;34m]\u001b[0m\u001b[0;34m,\u001b[0m \u001b[0my\u001b[0m\u001b[0;34m)\u001b[0m\u001b[0;34m\u001b[0m\u001b[0m\n\u001b[0m\u001b[1;32m    174\u001b[0m \u001b[0;34m\u001b[0m\u001b[0m\n\u001b[1;32m    175\u001b[0m             \u001b[0;31m# Get coefs\u001b[0m\u001b[0;34m\u001b[0m\u001b[0;34m\u001b[0m\u001b[0m\n",
      "\u001b[0;32m/home/anand/software/anaconda3/lib/python3.6/site-packages/sklearn/ensemble/gradient_boosting.py\u001b[0m in \u001b[0;36mfit\u001b[0;34m(self, X, y, sample_weight, monitor)\u001b[0m\n\u001b[1;32m   1032\u001b[0m         \u001b[0;31m# fit the boosting stages\u001b[0m\u001b[0;34m\u001b[0m\u001b[0;34m\u001b[0m\u001b[0m\n\u001b[1;32m   1033\u001b[0m         n_stages = self._fit_stages(X, y, y_pred, sample_weight, random_state,\n\u001b[0;32m-> 1034\u001b[0;31m                                     begin_at_stage, monitor, X_idx_sorted)\n\u001b[0m\u001b[1;32m   1035\u001b[0m         \u001b[0;31m# change shape of arrays after fit (early-stopping or additional ests)\u001b[0m\u001b[0;34m\u001b[0m\u001b[0;34m\u001b[0m\u001b[0m\n\u001b[1;32m   1036\u001b[0m         \u001b[0;32mif\u001b[0m \u001b[0mn_stages\u001b[0m \u001b[0;34m!=\u001b[0m \u001b[0mself\u001b[0m\u001b[0;34m.\u001b[0m\u001b[0mestimators_\u001b[0m\u001b[0;34m.\u001b[0m\u001b[0mshape\u001b[0m\u001b[0;34m[\u001b[0m\u001b[0;36m0\u001b[0m\u001b[0;34m]\u001b[0m\u001b[0;34m:\u001b[0m\u001b[0;34m\u001b[0m\u001b[0m\n",
      "\u001b[0;32m/home/anand/software/anaconda3/lib/python3.6/site-packages/sklearn/ensemble/gradient_boosting.py\u001b[0m in \u001b[0;36m_fit_stages\u001b[0;34m(self, X, y, y_pred, sample_weight, random_state, begin_at_stage, monitor, X_idx_sorted)\u001b[0m\n\u001b[1;32m   1087\u001b[0m             y_pred = self._fit_stage(i, X, y, y_pred, sample_weight,\n\u001b[1;32m   1088\u001b[0m                                      \u001b[0msample_mask\u001b[0m\u001b[0;34m,\u001b[0m \u001b[0mrandom_state\u001b[0m\u001b[0;34m,\u001b[0m \u001b[0mX_idx_sorted\u001b[0m\u001b[0;34m,\u001b[0m\u001b[0;34m\u001b[0m\u001b[0m\n\u001b[0;32m-> 1089\u001b[0;31m                                      X_csc, X_csr)\n\u001b[0m\u001b[1;32m   1090\u001b[0m \u001b[0;34m\u001b[0m\u001b[0m\n\u001b[1;32m   1091\u001b[0m             \u001b[0;31m# track deviance (= loss)\u001b[0m\u001b[0;34m\u001b[0m\u001b[0;34m\u001b[0m\u001b[0m\n",
      "\u001b[0;32m/home/anand/software/anaconda3/lib/python3.6/site-packages/sklearn/ensemble/gradient_boosting.py\u001b[0m in \u001b[0;36m_fit_stage\u001b[0;34m(self, i, X, y, y_pred, sample_weight, sample_mask, random_state, X_idx_sorted, X_csc, X_csr)\u001b[0m\n\u001b[1;32m    786\u001b[0m             \u001b[0;32melse\u001b[0m\u001b[0;34m:\u001b[0m\u001b[0;34m\u001b[0m\u001b[0m\n\u001b[1;32m    787\u001b[0m                 tree.fit(X, residual, sample_weight=sample_weight,\n\u001b[0;32m--> 788\u001b[0;31m                          check_input=False, X_idx_sorted=X_idx_sorted)\n\u001b[0m\u001b[1;32m    789\u001b[0m \u001b[0;34m\u001b[0m\u001b[0m\n\u001b[1;32m    790\u001b[0m             \u001b[0;31m# update tree leaves\u001b[0m\u001b[0;34m\u001b[0m\u001b[0;34m\u001b[0m\u001b[0m\n",
      "\u001b[0;32m/home/anand/software/anaconda3/lib/python3.6/site-packages/sklearn/tree/tree.py\u001b[0m in \u001b[0;36mfit\u001b[0;34m(self, X, y, sample_weight, check_input, X_idx_sorted)\u001b[0m\n\u001b[1;32m   1122\u001b[0m             \u001b[0msample_weight\u001b[0m\u001b[0;34m=\u001b[0m\u001b[0msample_weight\u001b[0m\u001b[0;34m,\u001b[0m\u001b[0;34m\u001b[0m\u001b[0m\n\u001b[1;32m   1123\u001b[0m             \u001b[0mcheck_input\u001b[0m\u001b[0;34m=\u001b[0m\u001b[0mcheck_input\u001b[0m\u001b[0;34m,\u001b[0m\u001b[0;34m\u001b[0m\u001b[0m\n\u001b[0;32m-> 1124\u001b[0;31m             X_idx_sorted=X_idx_sorted)\n\u001b[0m\u001b[1;32m   1125\u001b[0m         \u001b[0;32mreturn\u001b[0m \u001b[0mself\u001b[0m\u001b[0;34m\u001b[0m\u001b[0m\n\u001b[1;32m   1126\u001b[0m \u001b[0;34m\u001b[0m\u001b[0m\n",
      "\u001b[0;32m/home/anand/software/anaconda3/lib/python3.6/site-packages/sklearn/tree/tree.py\u001b[0m in \u001b[0;36mfit\u001b[0;34m(self, X, y, sample_weight, check_input, X_idx_sorted)\u001b[0m\n\u001b[1;32m    360\u001b[0m                                            min_impurity_split)\n\u001b[1;32m    361\u001b[0m \u001b[0;34m\u001b[0m\u001b[0m\n\u001b[0;32m--> 362\u001b[0;31m         \u001b[0mbuilder\u001b[0m\u001b[0;34m.\u001b[0m\u001b[0mbuild\u001b[0m\u001b[0;34m(\u001b[0m\u001b[0mself\u001b[0m\u001b[0;34m.\u001b[0m\u001b[0mtree_\u001b[0m\u001b[0;34m,\u001b[0m \u001b[0mX\u001b[0m\u001b[0;34m,\u001b[0m \u001b[0my\u001b[0m\u001b[0;34m,\u001b[0m \u001b[0msample_weight\u001b[0m\u001b[0;34m,\u001b[0m \u001b[0mX_idx_sorted\u001b[0m\u001b[0;34m)\u001b[0m\u001b[0;34m\u001b[0m\u001b[0m\n\u001b[0m\u001b[1;32m    363\u001b[0m \u001b[0;34m\u001b[0m\u001b[0m\n\u001b[1;32m    364\u001b[0m         \u001b[0;32mif\u001b[0m \u001b[0mself\u001b[0m\u001b[0;34m.\u001b[0m\u001b[0mn_outputs_\u001b[0m \u001b[0;34m==\u001b[0m \u001b[0;36m1\u001b[0m\u001b[0;34m:\u001b[0m\u001b[0;34m\u001b[0m\u001b[0m\n",
      "\u001b[0;31mKeyboardInterrupt\u001b[0m: "
     ]
    }
   ],
   "source": [
    "from sklearn.feature_selection import RFE\n",
    "gb=GradientBoostingRegressor(learning_rate=17/100,n_estimators=700)\n",
    "selector = RFE(gb)\n",
    "selector.fit(x,y)"
   ]
  },
  {
   "cell_type": "code",
   "execution_count": null,
   "metadata": {
    "collapsed": false
   },
   "outputs": [],
   "source": [
    "print(x.shape)\n",
    "print(y.shape)\n",
    "print(x_test.shape)\n",
    "print(y_test.shape)\n",
    "train=selector.score(x,y)\n",
    "test=selector.score(x_test,y_test)\n",
    "print(train,test)"
   ]
  },
  {
   "cell_type": "code",
   "execution_count": null,
   "metadata": {
    "collapsed": false
   },
   "outputs": [],
   "source": [
    "gb=GradientBoostingRegressor(learning_rate=13/100,n_estimators=700)\n",
    "x=train_data_afterdrop.drop(['Id'],axis=1)\n",
    "y=train_data_y\n",
    "x_test=out_data.drop(['Id'],axis=1)\n",
    "selector = RFE(gb)\n",
    "selector.fit(x,y)\n",
    "result=selector.predict(x_test)"
   ]
  },
  {
   "cell_type": "code",
   "execution_count": 22,
   "metadata": {
    "collapsed": false
   },
   "outputs": [
    {
     "name": "stdout",
     "output_type": "stream",
     "text": [
      "50   1     1   0.8953280307942909\n"
     ]
    }
   ],
   "source": [
    "import xgboost\n",
    "from sklearn.metrics import explained_variance_score\n",
    "maxlr=0\n",
    "maxg=0\n",
    "maxnest=0\n",
    "maxac=0\n",
    "for nf in range (50, 100, 50):\n",
    "    for lr in range(1,5,4):\n",
    "        for g in range(1,2,1):\n",
    "            nest=500\n",
    "            xgb = xgboost.XGBRegressor(n_estimators=nest, learning_rate=lr/100, gamma=g, subsample=0.75,colsample_bytree=1, max_depth=50)\n",
    "            selector = RFE(xgb,n_features_to_select=nf)\n",
    "            selector.fit(x,y)\n",
    "            yhat=selector.predict(x_test)\n",
    "            ac=explained_variance_score(yhat,y_test)\n",
    "            if(maxac < ac):\n",
    "                maxac=ac\n",
    "                maxlr=lr\n",
    "                maxg=g\n",
    "                maxnest=nest\n",
    "            print(nf,\" \",lr,\" \",\" \",g,\" \",ac)\n",
    "                "
   ]
  },
  {
   "cell_type": "code",
   "execution_count": null,
   "metadata": {
    "collapsed": false
   },
   "outputs": [],
   "source": [
    "xgb = xgboost.XGBRegressor(n_estimators=500, learning_rate=1/100, gamma=5, subsample=0.75,colsample_bytree=1, max_depth=5)\n",
    "x=train_data_afterdrop.drop(['Id'],axis=1)\n",
    "y=train_data_y\n",
    "x_test=out_data.drop(['Id'],axis=1)\n",
    "selector = RFE(xgb,n_features_to_select=100)\n",
    "selector.fit(x,y)\n",
    "result=selector.predict(x_test)"
   ]
  },
  {
   "cell_type": "code",
   "execution_count": null,
   "metadata": {
    "collapsed": false,
    "scrolled": true
   },
   "outputs": [],
   "source": [
    "\n",
    "gboost=0\n",
    "x=train_data_afterdrop.drop(['Id'],axis=1)\n",
    "y=train_data_y\n",
    "\n",
    "x_test=out_data.drop(['Id'],axis=1)\n",
    "if(gboost):\n",
    "    gb=GradientBoostingRegressor(learning_rate=17/100,n_estimators=700)\n",
    "    scaler=StandardScaler()\n",
    "    scaler.fit(x)\n",
    "    x=scaler.transform(x)\n",
    "    x_test=scaler.transform(x_test)\n",
    "    print(\"Find PCA....\")\n",
    "    pca=PCA(0.95)\n",
    "    pca.fit(x)\n",
    "    x=pca.transform(x)\n",
    "    x_test=pca.transform(x_test)\n",
    "    gb.fit(x,y)\n",
    "    \n",
    "else:\n",
    "    gb=GradientBoostingRegressor(learning_rate=13/100,n_estimators=700)\n",
    "    gb.fit(x,y)\n"
   ]
  },
  {
   "cell_type": "code",
   "execution_count": null,
   "metadata": {
    "collapsed": false
   },
   "outputs": [],
   "source": [
    "result=gb.predict(x_test)\n",
    "result"
   ]
  },
  {
   "cell_type": "code",
   "execution_count": null,
   "metadata": {
    "collapsed": false
   },
   "outputs": [],
   "source": [
    "\n",
    "out=pd.DataFrame()\n",
    "out['Id']=out_data['Id']\n",
    "out['SalePrice']=result\n",
    "out.shape\n",
    "out.to_csv(\"result_xgb_RFE.csv\",index=False)\n",
    "\n"
   ]
  },
  {
   "cell_type": "code",
   "execution_count": null,
   "metadata": {
    "collapsed": true
   },
   "outputs": [],
   "source": []
  },
  {
   "cell_type": "code",
   "execution_count": null,
   "metadata": {
    "collapsed": false
   },
   "outputs": [],
   "source": [
    "\n",
    "    \n",
    "    \n",
    "    "
   ]
  },
  {
   "cell_type": "code",
   "execution_count": null,
   "metadata": {
    "collapsed": false
   },
   "outputs": [],
   "source": [
    "    \n",
    "\n",
    "\n"
   ]
  },
  {
   "cell_type": "code",
   "execution_count": null,
   "metadata": {
    "collapsed": false
   },
   "outputs": [],
   "source": []
  },
  {
   "cell_type": "code",
   "execution_count": null,
   "metadata": {
    "collapsed": false
   },
   "outputs": [],
   "source": [
    "#pca.fit(x)\n",
    "\n",
    "#x=pca.transform(x)\n",
    "#x_test=pca.transform(x_test)\n",
    "Linear('linear',x,y,x_test,y_test)\n",
    "#decomposeandrun(x,y,x_test,y_test)"
   ]
  },
  {
   "cell_type": "code",
   "execution_count": null,
   "metadata": {
    "collapsed": false
   },
   "outputs": [],
   "source": []
  }
 ],
 "metadata": {
  "kernelspec": {
   "display_name": "Python 3",
   "language": "python",
   "name": "python3"
  },
  "language_info": {
   "codemirror_mode": {
    "name": "ipython",
    "version": 3
   },
   "file_extension": ".py",
   "mimetype": "text/x-python",
   "name": "python",
   "nbconvert_exporter": "python",
   "pygments_lexer": "ipython3",
   "version": "3.6.0"
  }
 },
 "nbformat": 4,
 "nbformat_minor": 2
}
