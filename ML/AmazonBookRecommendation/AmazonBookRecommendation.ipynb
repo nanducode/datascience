{
 "cells": [
  {
   "cell_type": "markdown",
   "metadata": {
    "collapsed": true
   },
   "source": [
    "Amazon Book Recommendation\n"
   ]
  },
  {
   "cell_type": "code",
   "execution_count": null,
   "metadata": {
    "collapsed": true
   },
   "outputs": [],
   "source": []
  },
  {
   "cell_type": "code",
   "execution_count": null,
   "metadata": {
    "collapsed": true
   },
   "outputs": [],
   "source": [
    "import networkx\n",
    "from operator import itemgetter\n",
    "import matplotlib.pyplot\n",
    "import math\n",
    "import statistics\n",
    "from statistics import mean,median"
   ]
  },
  {
   "cell_type": "code",
   "execution_count": null,
   "metadata": {
    "collapsed": true
   },
   "outputs": [],
   "source": [
    "def Collectibles(G, asin,amazonBooks,maxnumber):\n",
    "    clique=networkx.find_cliques(G)\n",
    "    maxclique = []    \n",
    "    cliqueweight = {}\n",
    "    cliquecount = {}\n",
    "    for c in clique:\n",
    "        for x in c:\n",
    "            if(x in cliquecount.keys()):\n",
    "                cliquecount[x] +=1\n",
    "            else:\n",
    "                cliquecount[x] = 1 \n",
    "#    clique=networkx.find_cliques(G)\n",
    "    for c in clique:        \n",
    "        if(asin in c):            \n",
    "            weightlist=[]\n",
    "#\tCalculate meanSalesRank[c forall cliques] = Sum of Sales Rank in the clique/size of Clique \n",
    "\n",
    "            for ne in c:\n",
    "             weightlist.append(amazonBooks[ne]['SalesRank'])\n",
    "            for x in c:\n",
    "              val=maxnumber  \n",
    "              if(cliquecount[x] == 0 or len(c) == 0):\n",
    "               print(\"error: clique count or length of clique is zero\")           \n",
    "              else:\n",
    "#\tCalculate Rank of each node by minimizing value as\n",
    "               val=mean(weightlist)/(cliquecount[x])    \n",
    "              if(x in cliqueweight.keys()):\n",
    "                  cliqueweight[x]=min(cliqueweight[x],val)\n",
    "              else:\n",
    "                  #\tInitialize Rank[node forall nodes] = HighNumber\n",
    "                  cliqueweight[x] = val\n",
    "# maxClique= Sort(Rank)\n",
    "   \n",
    "    sortedclique=(sorted(cliqueweight.items(),key = lambda x :x[1]))\n",
    "    cliqueitems=[x[0] for x in sortedclique]\n",
    "    maxclique = cliqueitems[:10]   \n",
    "    if(asin in maxclique):\n",
    "     maxclique.remove(asin)\n",
    "    return maxclique"
   ]
  },
  {
   "cell_type": "code",
   "execution_count": null,
   "metadata": {
    "collapsed": true
   },
   "outputs": [],
   "source": [
    "def Similarity(G,asin,amazonBooks,maxnumber):\n",
    "    simitems=[]\n",
    "    neighbors=(G.neighbors(asin))\n",
    "\n",
    "#egoNetwork: get_ego_network(coPurchaseGraph, asin, radius = 1)\n",
    "#threshold = median(weights of edges in egoNetwork)\n",
    "\n",
    "    ego = networkx.ego_graph(G, asin, radius=1)\n",
    "    \n",
    "    mediansimilarity =statistics.median([ego[x][asin]['weight'] for x in neighbors ])   \n",
    "    similaritydict={}\n",
    "    threshold = mediansimilarity\n",
    "#    islandGraph: A graph, initialized to null\n",
    "    gIslands = networkx.Graph()\n",
    "    #create islandGraph with the threshold\n",
    "    for f,t,e in ego.edges(data = True):\n",
    "        if(e['weight'] > threshold):\n",
    "            gIslands.add_edge(f,t,e)\n",
    "    nodelist=gIslands.nodes(data = False)\n",
    "    for n in nodelist:       \n",
    "        if(n != asin):\n",
    "         if(ego[n][asin]['weight'] == 0):\n",
    "             print(\"error: edge weight is zero\")\n",
    "             similaritydict[n]=maxnumber\n",
    "         else:\n",
    "#    Rank the nodes with the Sales Rank as follows\n",
    "#   \tRank[node] = salesRank/weight\n",
    "          similaritydict[n]=(amazonBooks[n]['SalesRank'])/(ego[n][asin]['weight']) \n",
    "          #simItems = Sort(Rank)\n",
    "    sortedsim=(sorted(similaritydict.items(), key = lambda x:x[1])[:100])\n",
    "    simitems = [x[0] for x in sortedsim]\n",
    "    return simitems"
   ]
  },
  {
   "cell_type": "code",
   "execution_count": null,
   "metadata": {
    "collapsed": true
   },
   "outputs": [],
   "source": [
    "def Popularity(G,asin,amazonBooks,maxnumber):\n",
    "    clustcoeff={}\n",
    "    G1=G.copy()\n",
    "#    newGraph is computed by removing asin from coPurchaseGraph\n",
    "    G1.remove_node(asin)\n",
    "    nodelist = G.neighbors(asin)\n",
    "    for n in nodelist:\n",
    "        newego = networkx.ego_graph(G1, n, radius=1)\n",
    "#\tcalculate clustering coefficient of nodes in newGraph\n",
    "        coeff = round(networkx.average_clustering(newego),2)\n",
    "        if(coeff!=0):\n",
    "#\tRank the nodes with the Sales Rank and clustCoeff as follows\n",
    "#\tRank[node] = salesRank of the node/clustCoeff\n",
    "         clustcoeff[n]=(amazonBooks[n]['SalesRank'])/coeff\n",
    "        else:\n",
    "         clustcoeff[n]=maxnumber\n",
    "    #popularitems = Sort(Rank)       \n",
    "    sortedcoeff=(sorted(clustcoeff.items(), key = lambda x:x[1])[:100])\n",
    "    coeffitems = [x[0] for x in sortedcoeff]\n",
    "    return coeffitems"
   ]
  },
  {
   "cell_type": "code",
   "execution_count": null,
   "metadata": {
    "collapsed": true
   },
   "outputs": [],
   "source": [
    "def PrintRec(secondlist,amazonBooks):\n",
    "    print(\"Top 50 Recommendations for this Product are: \")\n",
    "    for x in secondlist[:50]:\n",
    "        t=amazonBooks[x]['Title']\n",
    "        A=amazonBooks[x]['AvgRating']\n",
    "        TR=amazonBooks[x]['TotalReviews']\n",
    "        print(\"ASIN: %s, Title: %s, AvgRating: %s, TotalReviews: %s\" %(x,t,A,TR))"
   ]
  },
  {
   "cell_type": "code",
   "execution_count": null,
   "metadata": {
    "collapsed": true
   },
   "outputs": [],
   "source": [
    "def DrawRec(secondlist,G,asin):\n",
    "    ego = networkx.ego_graph(G, asin, radius=1)\n",
    "    pos=networkx.spring_layout(ego)\n",
    "    matplotlib.pyplot.figure(figsize=(15,15))\n",
    "    networkx.draw_networkx_nodes(ego,pos,node_color='g',node_size=600,alpha=0.8)\n",
    "    networkx.draw_networkx_nodes(ego,pos,nodelist=[asin],node_color='r',node_size=600)\n",
    "    networkx.draw_networkx_edges(ego,pos)\n",
    "    networkx.draw_networkx_nodes(ego,pos,nodelist=secondlist,node_color='b',node_size=600)"
   ]
  },
  {
   "cell_type": "code",
   "execution_count": null,
   "metadata": {
    "collapsed": true
   },
   "outputs": [],
   "source": [
    "def MaxNumber(G,amazonBooks):\n",
    "    Rank = []\n",
    "    Coeff= []\n",
    "    Sim = [] \n",
    "    for n in G.nodes(data = False):\n",
    "        Rank.append(amazonBooks[n]['SalesRank'])\n",
    "        c=amazonBooks[n]['ClusteringCoeff']\n",
    "        if(c!=0):\n",
    "            Coeff.append(c)\n",
    "    for e in G.edges(data = True):\n",
    "        w=G[e[0]][e[1]]['weight']\n",
    "        if(w != 0):       \n",
    "            Sim.append(w)\n",
    "    maxRank=max(Rank)\n",
    "    minCoeff=min(Coeff)\n",
    "    minSim = min(Sim)\n",
    "    return(maxRank/(min(minSim,minCoeff)))"
   ]
  },
  {
   "cell_type": "code",
   "execution_count": null,
   "metadata": {
    "collapsed": false
   },
   "outputs": [],
   "source": [
    "hr = open('./amazon-books.txt', 'r', encoding='utf-8', errors='ignore')\n",
    "amazonBooks = {}\n",
    "fhr.readline()\n",
    "for line in fhr:\n",
    "    cell = line.split('\\t')\n",
    "    MetaData = {}\n",
    "    MetaData['Id'] = cell[0].strip() \n",
    "    ASIN = cell[1].strip()\n",
    "    MetaData['Title'] = cell[2].strip()\n",
    "    MetaData['Categories'] = cell[3].strip()\n",
    "    MetaData['Group'] = cell[4].strip()\n",
    "    MetaData['Copurchased'] = cell[5].strip()\n",
    "    MetaData['SalesRank'] = int(cell[6].strip())\n",
    "    MetaData['TotalReviews'] = int(cell[7].strip())\n",
    "    MetaData['AvgRating'] = float(cell[8].strip())\n",
    "    MetaData['DegreeCentrality'] = int(cell[9].strip())\n",
    "    MetaData['ClusteringCoeff'] = float(cell[10].strip())\n",
    "    amazonBooks[ASIN] = MetaData\n",
    "fhr.close()\n",
    "\n",
    "# read the data from amazon-books-copurchase.adjlist;\n",
    "# assign it to copurchaseGraph weighted Graph;\n",
    "# node = ASIN, edge= copurchase, edge weight = category similarity\n",
    "fhr=open(\"amazon-books-copurchase.edgelist\", 'rb')\n",
    "copurchaseGraph=networkx.read_weighted_edgelist(fhr)\n",
    "fhr.close()\n",
    "\n",
    "# now let's assume a person is considering buying the following book;\n",
    "# what else can we recommend to them based on copurchase behavior \n",
    "# we've seen from other users?\n",
    "print (\"Looking for Recommendations for Customer Purchasing this Book:\")\n",
    "print (\"--------------------------------------------------------------\")\n",
    "asin = '0805047905'\n",
    "\n",
    "# example code to start looking at metadata associated with this book\n",
    "print (\"ASIN = \", asin) \n",
    "print (\"Title = \", amazonBooks[asin]['Title'])\n",
    "print (\"Categories = \", amazonBooks[asin]['Categories'])\n",
    "print (\"SalesRank = \", amazonBooks[asin]['SalesRank'])\n",
    "print (\"TotalReviews = \", amazonBooks[asin]['TotalReviews'])\n",
    "print (\"AvgRating = \", amazonBooks[asin]['AvgRating'])\n",
    "print (\"DegreeCentrality = \", amazonBooks[asin]['DegreeCentrality'])\n",
    "print (\"ClusteringCoeff = \", amazonBooks[asin]['ClusteringCoeff'])\n",
    "\n",
    "\n",
    "\n",
    "#HighNumber is \n",
    "#max(salesRank of all the nodes)/\n",
    "#min (min(clustCoeff of all the nodes), min(weight of all the edges))\n",
    "\n",
    "G = copurchaseGraph.copy()\n",
    "maxnumber = MaxNumber(G,amazonBooks)\n",
    "#collectibles = get Collectibles products\n",
    "G = copurchaseGraph.copy()\n",
    "maxclique=Collectibles(G,asin,amazonBooks,maxnumber)\n",
    "#similar = get Similar products\n",
    "G = copurchaseGraph.copy()\n",
    "simitems=Similarity(G,asin,amazonBooks,maxnumber)\n",
    "#popular = get Popular products\n",
    "G = copurchaseGraph.copy()\n",
    "coeffitems=Popularity(G,asin,amazonBooks,maxnumber)\n",
    "\n",
    "#\tRecommendation = merge the lists of collectibles,\n",
    "# similar, and popular adhering to the Rank\n",
    "firstset=set(maxclique)\n",
    "firstlist=maxclique + [x for x in simitems if x not in firstset]\n",
    "firstset=set(firstlist)\n",
    "secondlist=firstlist + [x for x in coeffitems if x not in firstset]\n",
    "PrintRec(secondlist,amazonBooks)\n",
    "#G = copurchaseGraph.copy()\n",
    "#DrawRec(secondlist,G,asin)"
   ]
  },
  {
   "cell_type": "code",
   "execution_count": null,
   "metadata": {
    "collapsed": true
   },
   "outputs": [],
   "source": []
  },
  {
   "cell_type": "code",
   "execution_count": null,
   "metadata": {
    "collapsed": true
   },
   "outputs": [],
   "source": []
  }
 ],
 "metadata": {
  "kernelspec": {
   "display_name": "Python 3",
   "language": "python",
   "name": "python3"
  },
  "language_info": {
   "codemirror_mode": {
    "name": "ipython",
    "version": 3
   },
   "file_extension": ".py",
   "mimetype": "text/x-python",
   "name": "python",
   "nbconvert_exporter": "python",
   "pygments_lexer": "ipython3",
   "version": "3.6.0"
  }
 },
 "nbformat": 4,
 "nbformat_minor": 2
}
