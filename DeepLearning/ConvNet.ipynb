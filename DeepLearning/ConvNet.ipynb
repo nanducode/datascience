{
 "cells": [
  {
   "cell_type": "code",
   "execution_count": null,
   "metadata": {
    "collapsed": true
   },
   "outputs": [],
   "source": [
    "import numpy as np\n",
    "import h5py\n",
    "import matplotlib.pyplot as plt\n",
    "%matplotlib inline\n",
    "plt.rcParams['figure.figsize'] = (5.0, 4.0) # set default size of plo\n",
    "ts\n",
    "plt.rcParams['image.interpolation'] = 'nearest'\n",
    "plt.rcParams['image.cmap'] = 'gray'\n",
    "%load_ext autoreload\n",
    "%autoreload 2\n",
    "np.random.seed(1)"
   ]
  },
  {
   "cell_type": "code",
   "execution_count": null,
   "metadata": {
    "collapsed": true
   },
   "outputs": [],
   "source": [
    "def zero_pad(X, pad):\n",
    "\"\"\"\n",
    "Pad with zeros all images of the dataset X. The padding is applie\n",
    "d to the height and width of an image,\n",
    "as illustrated in Figure 1.\n",
    "Argument:\n",
    "X -- python numpy array of shape (m, n_H, n_W, n_C) representing\n",
    "a batch of m images\n",
    "pad -- integer, amount of padding around each image on vertical a\n",
    "nd horizontal dimensions\n",
    "Returns:\n",
    "X_pad -- padded image of shape (m, n_H + 2*pad, n_W + 2*pad, n_C)\n",
    "\"\"\"\n",
    "### START CODE HERE ### (≈ 1 line)\n",
    "X_pad = np.pad(X,((0,0),(pad,pad),(pad,pad),(0,0)),'constant',con\n",
    "stant_values=0)\n",
    "### END CODE HERE ###\n",
    "return X_pad"
   ]
  },
  {
   "cell_type": "code",
   "execution_count": null,
   "metadata": {
    "collapsed": true
   },
   "outputs": [],
   "source": [
    "np.random.seed(1)\n",
    "x = np.random.randn(4, 3, 3, 2)\n",
    "x_pad = zero_pad(x, 2)\n",
    "print (\"x.shape =\", x.shape)\n",
    "print (\"x_pad.shape =\", x_pad.shape)\n",
    "print (\"x[1,1] =\", x[1,1])\n",
    "print (\"x_pad[1,1] =\", x_pad[1,1])\n",
    "fig, axarr = plt.subplots(1, 2)\n",
    "axarr[0].set_title('x')\n",
    "axarr[0].imshow(x[0,:,:,0])\n",
    "axarr[1].set_title('x_pad')\n",
    "axarr[1].imshow(x_pad[0,:,:,0])"
   ]
  },
  {
   "cell_type": "code",
   "execution_count": null,
   "metadata": {
    "collapsed": true
   },
   "outputs": [],
   "source": [
    "def conv_single_step(a_slice_prev, W, b):\n",
    "\"\"\"\n",
    "Apply one filter defined by parameters W on a single slice (a_sli\n",
    "ce_prev) of the output activation\n",
    "of the previous layer.\n",
    "Arguments:\n",
    "a_slice_prev -- slice of input data of shape (f, f, n_C_prev)\n",
    "W -- Weight parameters contained in a window - matrix of shape\n",
    "(f, f, n_C_prev)\n",
    "b -- Bias parameters contained in a window - matrix of shape (1,\n",
    "1, 1)\n",
    "Returns:\n",
    "Z -- a scalar value, result of convolving the sliding window (W,\n",
    "b) on a slice x of the input data\n",
    "\"\"\"\n",
    "# Element-wise product between a_slice and W. Do not add the bias yet.\n",
    "s = np.multiply(a_slice_prev,W)\n",
    "# Sum over all entries of the volume s.\n",
    "Z = np.sum(s)\n",
    "# Add bias b to Z. Cast b to a float() so that Z results in a sca\n",
    "lar value.\n",
    "Z = float(b)+Z\n",
    "return Z"
   ]
  }
 ],
 "metadata": {
  "kernelspec": {
   "display_name": "Python 3",
   "language": "python",
   "name": "python3"
  },
  "language_info": {
   "codemirror_mode": {
    "name": "ipython",
    "version": 3
   },
   "file_extension": ".py",
   "mimetype": "text/x-python",
   "name": "python",
   "nbconvert_exporter": "python",
   "pygments_lexer": "ipython3",
   "version": "3.6.0"
  }
 },
 "nbformat": 4,
 "nbformat_minor": 2
}
